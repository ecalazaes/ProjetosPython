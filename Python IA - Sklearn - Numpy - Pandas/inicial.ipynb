{
 "cells": [
  {
   "cell_type": "markdown",
   "metadata": {},
   "source": [
    "# Projeto Python IA: Inteligência Artificial e Previsões\n",
    "\n",
    "### Case: Score de Crédito dos Clientes\n",
    "\n",
    "Você foi contratado por um banco para conseguir definir o score de crédito dos clientes. Você precisa analisar todos os clientes do banco e, com base nessa análise, criar um modelo que consiga ler as informações do cliente e dizer automaticamente o score de crédito dele: Ruim, Ok, Bom\n",
    "\n",
    "Arquivos da aula: https://drive.google.com/drive/folders/1FbDqVq4XLvU85VBlVIMJ73p9oOu6u2-J?usp=drive_link"
   ]
  },
  {
   "cell_type": "code",
   "execution_count": 27,
   "metadata": {},
   "outputs": [],
   "source": [
    "# Passo a passo\n",
    "# Passo 0: Entender o desafio da empresa\n",
    "# Passo 1: Importar a base de dados e corrigir os problemas\n",
    "# Passo 2: Preparar a base de dados para a inteligência artificial\n",
    "# Passo 3: Criar um modelo de IA -> Score de crédito: Ruim, Médio, Bom\n",
    "# Passo 4: Escolher o melhor modelo\n",
    "# Passo 5: Usar a nossa IA para fazer novas \n",
    "# !pip install scikit-learn\n",
    "# Vamos usar pandas e scikit-learn\n",
    "# Kaggle ( Pegar bases de dados )\n"
   ]
  },
  {
   "cell_type": "code",
   "execution_count": null,
   "metadata": {},
   "outputs": [],
   "source": [
    "# Passo 1: Importar a base de dados e corrigir os problemas\n",
    "import pandas as pd\n",
    "\n",
    "tabela = pd.read_csv(\"clientes.csv\")\n",
    "display(tabela)"
   ]
  },
  {
   "cell_type": "code",
   "execution_count": null,
   "metadata": {},
   "outputs": [],
   "source": [
    "# Passo 2: Preparar a base de dados para a inteligência artificial\n",
    "print(tabela.info())\n",
    "\n",
    "# int -> numero inteiro\n",
    "# float -> numero com casa decilam\n",
    "# object -> texto\n",
    "\n",
    "# profissao\n",
    "# mix_credito\n",
    "# comportamento_pagamento\n",
    "\n",
    "from sklearn.preprocessing import LabelEncoder\n",
    "\n",
    "codificador = LabelEncoder()\n",
    "\n",
    "# codificador -> aplica na coluna \"profissao\"\n",
    "tabela[\"profissao\"] = codificador.fit_transform(tabela[\"profissao\"])\n",
    "\n",
    "# codificador -> aplica na coluna \"mix_credito\"\n",
    "tabela[\"mix_credito\"] = codificador.fit_transform(tabela[\"mix_credito\"])\n",
    "\n",
    "# codificador -> aplica na coluna \"comportamento_pagamento\"\n",
    "tabela[\"comportamento_pagamento\"] = codificador.fit_transform(tabela[\"comportamento_pagamento\"])\n",
    "\n",
    "print(tabela.info())\n"
   ]
  },
  {
   "cell_type": "code",
   "execution_count": 30,
   "metadata": {},
   "outputs": [],
   "source": [
    "# Aprendizado de máquina\n",
    "# y é a coluna que você quer prever\n",
    "# x são as colunas que você vai usar para fazer a previsão\n",
    "    # não vamos usar a coluna id_cliente porque ela é um número aleatorio\n",
    "\n",
    "y = tabela[\"score_credito\"]\n",
    "x = tabela.drop(columns=[\"id_cliente\", \"score_credito\"])\n",
    "\n",
    "from sklearn.model_selection import train_test_split\n",
    "x_treino, x_teste, y_treino, y_teste = train_test_split(x, y)"
   ]
  },
  {
   "cell_type": "code",
   "execution_count": 31,
   "metadata": {},
   "outputs": [
    {
     "data": {
      "text/html": [
       "<style>#sk-container-id-3 {color: black;}#sk-container-id-3 pre{padding: 0;}#sk-container-id-3 div.sk-toggleable {background-color: white;}#sk-container-id-3 label.sk-toggleable__label {cursor: pointer;display: block;width: 100%;margin-bottom: 0;padding: 0.3em;box-sizing: border-box;text-align: center;}#sk-container-id-3 label.sk-toggleable__label-arrow:before {content: \"▸\";float: left;margin-right: 0.25em;color: #696969;}#sk-container-id-3 label.sk-toggleable__label-arrow:hover:before {color: black;}#sk-container-id-3 div.sk-estimator:hover label.sk-toggleable__label-arrow:before {color: black;}#sk-container-id-3 div.sk-toggleable__content {max-height: 0;max-width: 0;overflow: hidden;text-align: left;background-color: #f0f8ff;}#sk-container-id-3 div.sk-toggleable__content pre {margin: 0.2em;color: black;border-radius: 0.25em;background-color: #f0f8ff;}#sk-container-id-3 input.sk-toggleable__control:checked~div.sk-toggleable__content {max-height: 200px;max-width: 100%;overflow: auto;}#sk-container-id-3 input.sk-toggleable__control:checked~label.sk-toggleable__label-arrow:before {content: \"▾\";}#sk-container-id-3 div.sk-estimator input.sk-toggleable__control:checked~label.sk-toggleable__label {background-color: #d4ebff;}#sk-container-id-3 div.sk-label input.sk-toggleable__control:checked~label.sk-toggleable__label {background-color: #d4ebff;}#sk-container-id-3 input.sk-hidden--visually {border: 0;clip: rect(1px 1px 1px 1px);clip: rect(1px, 1px, 1px, 1px);height: 1px;margin: -1px;overflow: hidden;padding: 0;position: absolute;width: 1px;}#sk-container-id-3 div.sk-estimator {font-family: monospace;background-color: #f0f8ff;border: 1px dotted black;border-radius: 0.25em;box-sizing: border-box;margin-bottom: 0.5em;}#sk-container-id-3 div.sk-estimator:hover {background-color: #d4ebff;}#sk-container-id-3 div.sk-parallel-item::after {content: \"\";width: 100%;border-bottom: 1px solid gray;flex-grow: 1;}#sk-container-id-3 div.sk-label:hover label.sk-toggleable__label {background-color: #d4ebff;}#sk-container-id-3 div.sk-serial::before {content: \"\";position: absolute;border-left: 1px solid gray;box-sizing: border-box;top: 0;bottom: 0;left: 50%;z-index: 0;}#sk-container-id-3 div.sk-serial {display: flex;flex-direction: column;align-items: center;background-color: white;padding-right: 0.2em;padding-left: 0.2em;position: relative;}#sk-container-id-3 div.sk-item {position: relative;z-index: 1;}#sk-container-id-3 div.sk-parallel {display: flex;align-items: stretch;justify-content: center;background-color: white;position: relative;}#sk-container-id-3 div.sk-item::before, #sk-container-id-3 div.sk-parallel-item::before {content: \"\";position: absolute;border-left: 1px solid gray;box-sizing: border-box;top: 0;bottom: 0;left: 50%;z-index: -1;}#sk-container-id-3 div.sk-parallel-item {display: flex;flex-direction: column;z-index: 1;position: relative;background-color: white;}#sk-container-id-3 div.sk-parallel-item:first-child::after {align-self: flex-end;width: 50%;}#sk-container-id-3 div.sk-parallel-item:last-child::after {align-self: flex-start;width: 50%;}#sk-container-id-3 div.sk-parallel-item:only-child::after {width: 0;}#sk-container-id-3 div.sk-dashed-wrapped {border: 1px dashed gray;margin: 0 0.4em 0.5em 0.4em;box-sizing: border-box;padding-bottom: 0.4em;background-color: white;}#sk-container-id-3 div.sk-label label {font-family: monospace;font-weight: bold;display: inline-block;line-height: 1.2em;}#sk-container-id-3 div.sk-label-container {text-align: center;}#sk-container-id-3 div.sk-container {/* jupyter's `normalize.less` sets `[hidden] { display: none; }` but bootstrap.min.css set `[hidden] { display: none !important; }` so we also need the `!important` here to be able to override the default hidden behavior on the sphinx rendered scikit-learn.org. See: https://github.com/scikit-learn/scikit-learn/issues/21755 */display: inline-block !important;position: relative;}#sk-container-id-3 div.sk-text-repr-fallback {display: none;}</style><div id=\"sk-container-id-3\" class=\"sk-top-container\"><div class=\"sk-text-repr-fallback\"><pre>KNeighborsClassifier()</pre><b>In a Jupyter environment, please rerun this cell to show the HTML representation or trust the notebook. <br />On GitHub, the HTML representation is unable to render, please try loading this page with nbviewer.org.</b></div><div class=\"sk-container\" hidden><div class=\"sk-item\"><div class=\"sk-estimator sk-toggleable\"><input class=\"sk-toggleable__control sk-hidden--visually\" id=\"sk-estimator-id-3\" type=\"checkbox\" checked><label for=\"sk-estimator-id-3\" class=\"sk-toggleable__label sk-toggleable__label-arrow\">KNeighborsClassifier</label><div class=\"sk-toggleable__content\"><pre>KNeighborsClassifier()</pre></div></div></div></div></div>"
      ],
      "text/plain": [
       "KNeighborsClassifier()"
      ]
     },
     "execution_count": 31,
     "metadata": {},
     "output_type": "execute_result"
    }
   ],
   "source": [
    "# Passo 3: Criar um modelo de IA -> Score de crédito: Ruim, Médio, \n",
    "# Árvore de Decisão -> RandomForest\n",
    "# KNN -> Vizinhos Proximos -> Kneighborts\n",
    "\n",
    "# Importa a inteligência artificial\n",
    "from sklearn.ensemble import RandomForestClassifier\n",
    "from sklearn.neighbors import KNeighborsClassifier\n",
    "\n",
    "# Cria a inteligência artificial\n",
    "modelo_arvoredecisao = RandomForestClassifier()\n",
    "modelo_knn = KNeighborsClassifier()\n",
    "\n",
    "# Treina a inteligência artificial\n",
    "modelo_arvoredecisao.fit(x_treino, y_treino)\n",
    "modelo_knn.fit(x_treino,y_treino)\n",
    "\n",
    "# Treinar os modelos"
   ]
  },
  {
   "cell_type": "code",
   "execution_count": null,
   "metadata": {},
   "outputs": [],
   "source": [
    "# Testar os modelos\n",
    "# acurácia\n",
    "from sklearn.metrics import accuracy_score\n",
    "\n",
    "previsao_arvoredecisao = modelo_arvoredecisao.predict(x_teste)\n",
    "previsao_knn = modelo_knn.predict(x_teste.to_numpy())\n",
    "\n",
    "print(accuracy_score(y_teste, previsao_arvoredecisao))\n",
    "print(accuracy_score(y_teste, previsao_knn))"
   ]
  },
  {
   "cell_type": "code",
   "execution_count": null,
   "metadata": {},
   "outputs": [],
   "source": [
    "# melhor modelo: modelo_arvoredecisao\n",
    "# Para Fazer novas previsões\n",
    "\n",
    "# importar novos clientes\n",
    "tabela_novos_clientes = pd.read_csv(\"novos_clientes.csv\")\n",
    "\n",
    "# codificar novos clientes\n",
    "tabela_novos_clientes[\"profissao\"] = codificador.fit_transform(tabela_novos_clientes[\"profissao\"])\n",
    "\n",
    "tabela_novos_clientes[\"mix_credito\"] = codificador.fit_transform(tabela_novos_clientes[\"mix_credito\"])\n",
    "\n",
    "tabela_novos_clientes[\"comportamento_pagamento\"] = codificador.fit_transform(tabela_novos_clientes[\"comportamento_pagamento\"])\n",
    "\n",
    "display(tabela_novos_clientes)\n",
    "\n",
    "# fazer previsões\n",
    "previsoes = modelo_arvoredecisao.predict(tabela_novos_clientes)\n",
    "print(previsoes)"
   ]
  }
 ],
 "metadata": {
  "kernelspec": {
   "display_name": "Python 3",
   "language": "python",
   "name": "python3"
  },
  "language_info": {
   "codemirror_mode": {
    "name": "ipython",
    "version": 3
   },
   "file_extension": ".py",
   "mimetype": "text/x-python",
   "name": "python",
   "nbconvert_exporter": "python",
   "pygments_lexer": "ipython3",
   "version": "3.11.2"
  },
  "orig_nbformat": 4
 },
 "nbformat": 4,
 "nbformat_minor": 2
}
